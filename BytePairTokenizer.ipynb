{
  "nbformat": 4,
  "nbformat_minor": 0,
  "metadata": {
    "colab": {
      "provenance": []
    },
    "kernelspec": {
      "name": "python3",
      "display_name": "Python 3"
    },
    "language_info": {
      "name": "python"
    }
  },
  "cells": [
    {
      "cell_type": "code",
      "source": [
        "import re\n",
        "import collections\n",
        "import pandas as pd"
      ],
      "metadata": {
        "id": "EoS-0BM29QSL"
      },
      "execution_count": 1,
      "outputs": []
    },
    {
      "cell_type": "code",
      "execution_count": 2,
      "metadata": {
        "id": "9RXu7xIx9GXn"
      },
      "outputs": [],
      "source": [
        "class BPE:\n",
        "  def __init__(self):\n",
        "    self.BPETokens = pd.DataFrame()\n",
        "    self.pairs = collections.defaultdict(int)\n",
        "\n",
        "  def generate_split(self,vocab):\n",
        "    '''\n",
        "    This function will generate the splits for the vocabulary\n",
        "    Note we have to check that </w> is considered one token rather than 4 different tokens\n",
        "    '''\n",
        "    for word,freq in vocab.items():\n",
        "      symbol = word.split()\n",
        "      for i in range(len(symbol[0])-1):\n",
        "        self.pairs[symbol[0][i],symbol[0][i+1]] += freq\n",
        "\n",
        "    return self.pairs\n",
        "\n",
        "  def get_best_pair_for_merge(self,pairs):\n",
        "    '''\n",
        "    This function will give the pair that is the best for merging\n",
        "    '''\n",
        "    best_pair = max(pairs,key=pairs.get)\n",
        "    return (best_pair,pairs[best_pair])\n",
        "\n",
        "  def convert_to_dataframe(self,vocab):\n",
        "    v_out = {}\n",
        "\n",
        "    for keys,values in vocab.items():\n",
        "      for char in keys:\n",
        "        if char not in v_out:\n",
        "          v_out[char] = values\n",
        "        else:\n",
        "          v_out[char] += values\n",
        "    return v_out\n",
        "\n",
        "    # self.BPETokens['keys'] = v_out.keys()\n",
        "    # self.BPETokens['frequency'] = v_out.values()\n",
        "\n",
        "\n",
        "  def merge_vocab(self,num_merges:int,vocab):\n",
        "    # Need to check if one of the tokens after merging is done is zero or not\n",
        "    v_out = self.convert_to_dataframe(vocab)\n",
        "    for i in range(num_merges):\n",
        "      best_pair,best_pair_freq = self.get_best_pair_for_merge(self.pairs)\n",
        "      print(''.join(best_pair),best_pair_freq)\n",
        "\n",
        "\n",
        "      if v_out[best_pair[0]] == 0 or v_out[best_pair[1]] == 0:\n",
        "        self.pairs[best_pair] = -1\n",
        "        continue\n",
        "      if v_out[best_pair[0]] < best_pair_freq or v_out[best_pair[1]] < best_pair_freq:\n",
        "        self.pairs[best_pair] = -1\n",
        "        continue\n",
        "      v_out[best_pair[0]] -= best_pair_freq\n",
        "      v_out[best_pair[1]] -= best_pair_freq\n",
        "      v_out[''.join(best_pair)] = best_pair_freq\n",
        "\n",
        "      self.pairs[best_pair] = -1\n",
        "\n",
        "    return v_out\n"
      ]
    },
    {
      "cell_type": "code",
      "source": [
        "wo =  {\"low>\": 4,\n",
        "      \"older>\": 5,\n",
        "      \"finest>\": 6,\n",
        "      \"lowest>\": 7,\n",
        "      \"loneliest>\":8}\n",
        "\n",
        "bpe = BPE()\n",
        "bpe.generate_split(wo)\n",
        "v_out = bpe.merge_vocab(100,wo)"
      ],
      "metadata": {
        "colab": {
          "base_uri": "https://localhost:8080/"
        },
        "id": "TeCADMOe950D",
        "outputId": "18c897fe-3416-4373-85bc-3330244e8cd6"
      },
      "execution_count": 6,
      "outputs": [
        {
          "output_type": "stream",
          "name": "stdout",
          "text": [
            "es 21\n",
            "st 21\n",
            "t> 21\n",
            "lo 19\n",
            "ne 14\n",
            "ow 11\n",
            "on 8\n",
            "el 8\n",
            "li 8\n",
            "ie 8\n",
            "we 7\n",
            "fi 6\n",
            "in 6\n",
            "ol 5\n",
            "ld 5\n",
            "de 5\n",
            "er 5\n",
            "r> 5\n",
            "w> 4\n",
            "lo -1\n",
            "lo -1\n",
            "lo -1\n",
            "lo -1\n",
            "lo -1\n",
            "lo -1\n",
            "lo -1\n",
            "lo -1\n",
            "lo -1\n",
            "lo -1\n",
            "lo -1\n",
            "lo -1\n",
            "lo -1\n",
            "lo -1\n",
            "lo -1\n",
            "lo -1\n",
            "lo -1\n",
            "lo -1\n",
            "lo -1\n",
            "lo -1\n",
            "lo -1\n",
            "lo -1\n",
            "lo -1\n",
            "lo -1\n",
            "lo -1\n",
            "lo -1\n",
            "lo -1\n",
            "lo -1\n",
            "lo -1\n",
            "lo -1\n",
            "lo -1\n",
            "lo -1\n",
            "lo -1\n",
            "lo -1\n",
            "lo -1\n",
            "lo -1\n",
            "lo -1\n",
            "lo -1\n",
            "lo -1\n",
            "lo -1\n",
            "lo -1\n",
            "lo -1\n",
            "lo -1\n",
            "lo -1\n",
            "lo -1\n",
            "lo -1\n",
            "lo -1\n",
            "lo -1\n",
            "lo -1\n",
            "lo -1\n",
            "lo -1\n",
            "lo -1\n",
            "lo -1\n",
            "lo -1\n",
            "lo -1\n",
            "lo -1\n",
            "lo -1\n",
            "lo -1\n",
            "lo -1\n",
            "lo -1\n",
            "lo -1\n",
            "lo -1\n",
            "lo -1\n",
            "lo -1\n",
            "lo -1\n",
            "lo -1\n",
            "lo -1\n",
            "lo -1\n",
            "lo -1\n",
            "lo -1\n",
            "lo -1\n",
            "lo -1\n",
            "lo -1\n",
            "lo -1\n",
            "lo -1\n",
            "lo -1\n",
            "lo -1\n",
            "lo -1\n",
            "lo -1\n",
            "lo -1\n",
            "lo -1\n"
          ]
        }
      ]
    },
    {
      "cell_type": "code",
      "source": [
        "bpe.pairs"
      ],
      "metadata": {
        "colab": {
          "base_uri": "https://localhost:8080/"
        },
        "id": "VFmM2_W1-A6G",
        "outputId": "363e348e-b2b8-4fb8-95c8-8a3ee9051d23"
      },
      "execution_count": 7,
      "outputs": [
        {
          "output_type": "execute_result",
          "data": {
            "text/plain": [
              "defaultdict(int,\n",
              "            {('l', 'o'): -1,\n",
              "             ('o', 'w'): -1,\n",
              "             ('w', '>'): -1,\n",
              "             ('o', 'l'): -1,\n",
              "             ('l', 'd'): -1,\n",
              "             ('d', 'e'): -1,\n",
              "             ('e', 'r'): -1,\n",
              "             ('r', '>'): -1,\n",
              "             ('f', 'i'): -1,\n",
              "             ('i', 'n'): -1,\n",
              "             ('n', 'e'): -1,\n",
              "             ('e', 's'): -1,\n",
              "             ('s', 't'): -1,\n",
              "             ('t', '>'): -1,\n",
              "             ('w', 'e'): -1,\n",
              "             ('o', 'n'): -1,\n",
              "             ('e', 'l'): -1,\n",
              "             ('l', 'i'): -1,\n",
              "             ('i', 'e'): -1})"
            ]
          },
          "metadata": {},
          "execution_count": 7
        }
      ]
    },
    {
      "cell_type": "code",
      "source": [
        "v_out"
      ],
      "metadata": {
        "colab": {
          "base_uri": "https://localhost:8080/"
        },
        "id": "l0BvEKGnAxXp",
        "outputId": "687c6052-0396-42af-e552-1a3626347bb1"
      },
      "execution_count": 8,
      "outputs": [
        {
          "output_type": "execute_result",
          "data": {
            "text/plain": [
              "{'l': 0,\n",
              " 'o': 0,\n",
              " 'w': 7,\n",
              " '>': 0,\n",
              " 'd': 0,\n",
              " 'e': 0,\n",
              " 'r': 0,\n",
              " 'f': 0,\n",
              " 'i': 2,\n",
              " 'n': 8,\n",
              " 's': 0,\n",
              " 't': 0,\n",
              " 'es': 21,\n",
              " 't>': 21,\n",
              " 'lo': 19,\n",
              " 'el': 8,\n",
              " 'fi': 6,\n",
              " 'in': 6,\n",
              " 'ol': 5,\n",
              " 'de': 5,\n",
              " 'r>': 5,\n",
              " 'w>': 4}"
            ]
          },
          "metadata": {},
          "execution_count": 8
        }
      ]
    },
    {
      "cell_type": "code",
      "source": [],
      "metadata": {
        "id": "T_jRe3moBJdH"
      },
      "execution_count": 5,
      "outputs": []
    }
  ]
}