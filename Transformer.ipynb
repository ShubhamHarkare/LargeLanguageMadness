{
 "cells": [
  {
   "cell_type": "code",
   "execution_count": 1,
   "id": "b0493ae7-70cf-4634-b018-a08ed9befa84",
   "metadata": {},
   "outputs": [],
   "source": [
    "import torch\n",
    "import torch.nn as nn"
   ]
  },
  {
   "cell_type": "code",
   "execution_count": 183,
   "id": "5cc16d70-7222-4e14-9c02-4949e079704d",
   "metadata": {},
   "outputs": [],
   "source": [
    "class SelfAttention(nn.Module):\n",
    "    def __init__(self,embed_size,n_heads):\n",
    "        super(SelfAttention,self).__init__()\n",
    "        self.embed_size = embed_size\n",
    "        self.n_heads = n_heads\n",
    "        self.head_dims = embed_size//n_heads\n",
    "        # assert self.embed_size // self.n_heads == 0, \"This cannot be the number of heads in the Encoder\"\n",
    "\n",
    "        self.values = nn.Linear(self.head_dims,self.head_dims,bias = False)\n",
    "        self.keys = nn.Linear(self.head_dims,self.head_dims,bias = False)\n",
    "        self.query = nn.Linear(self.head_dims,self.head_dims,bias = False)\n",
    "        self.fc_out = nn.Linear(self.embed_size,self.embed_size,bias = False)\n",
    "\n",
    "    def forward(self,values,keys,query,mask):\n",
    "        N = query.shape[0]\n",
    "        value_len,key_len,query_len = values.shape[1],keys.shape[1],query.shape[1]\n",
    "        values = values.reshape(N,value_len,self.n_heads,self.head_dims)\n",
    "        keys= keys.reshape(N,key_len,self.n_heads,self.head_dims)\n",
    "        query = query.reshape(N,query_len,self.n_heads,self.head_dims)\n",
    "        values = self.values(values)\n",
    "        keys = self.keys(keys)\n",
    "        query = self.query(query)\n",
    "        \n",
    "\n",
    "        unormalized_attention = torch.einsum('nqhd,nkhd->nhqk',[query,keys])\n",
    "\n",
    "        if mask is not None: # This is so that the padded zeros to the end do not participate in weight changes\n",
    "            unormalized_attention = unormalized_attention.masked_fill(mask == 0,float('-1e20'))\n",
    "        normalized_attention = torch.softmax(unormalized_attention/(self.embed_size**0.5),dim = 3)\n",
    "\n",
    "        out = torch.einsum('nhql,nlhd->nqhd',[normalized_attention,values]).reshape(N,query_len,self.embed_size)\n",
    "        out = self.fc_out(out)\n",
    "        return out"
   ]
  },
  {
   "cell_type": "code",
   "execution_count": 184,
   "id": "c1743262-5eb1-4683-bd15-4756cc13ca0c",
   "metadata": {},
   "outputs": [],
   "source": [
    "class TransformerBlock(nn.Module):\n",
    "    def __init__(self,embed_size,n_heads,dropout,forward_expansion):\n",
    "        super(TransformerBlock,self).__init__()\n",
    "        self.attention = SelfAttention(embed_size,n_heads)\n",
    "        self.norm1 = nn.LayerNorm(embed_size)\n",
    "        self.norm2 = nn.LayerNorm(embed_size)\n",
    "\n",
    "        self.feed_forward = nn.Sequential(\n",
    "            nn.Linear(embed_size,forward_expansion*embed_size,bias=False),\n",
    "            nn.ReLU(),\n",
    "            nn.Linear(forward_expansion*embed_size,embed_size,bias= False)\n",
    "        )\n",
    "        self.dropout = nn.Dropout(dropout)\n",
    "\n",
    "    def forward(self,values,keys,query,mask):\n",
    "        attention = self.attention(values,keys,query,mask)\n",
    "        x = self.dropout(self.norm1(attention + query))\n",
    "        forward = self.feed_forward(x)\n",
    "        out = self.dropout(self.norm2(forward + x))\n",
    "        return out"
   ]
  },
  {
   "cell_type": "code",
   "execution_count": 185,
   "id": "612cb540-b82a-4bfc-89b1-c1374077d78e",
   "metadata": {},
   "outputs": [],
   "source": [
    "class Encoder(nn.Module):\n",
    "    def __init__(self,source_vocab_size,embed_size,num_layers,n_heads,device,forward_expansion,dropout,max_length):\n",
    "        super(Encoder,self).__init__()\n",
    "        self.embed_size = embed_size\n",
    "        self.device = device\n",
    "        self.word_embedding = nn.Embedding(src_vocab_size,embed_size)\n",
    "        self.positional_encoding = nn.Embedding(max_length,embed_size)\n",
    "        self.layers = nn.ModuleList(\n",
    "            [\n",
    "                TransformerBlock(embed_size,n_heads,dropout,forward_expansion)\n",
    "            for layer in  range(num_layers)] \n",
    "        )\n",
    "        self.dropout = nn.Dropout(dropout)\n",
    "\n",
    "    def forward(self,x,mask):\n",
    "        N,seq_length = x.shape\n",
    "        positions = torch.arange(0,seq_length).expand(N,seq_length).to(self.device)\n",
    "        out = self.dropout(self.word_embedding(x) + self.positional_encoding(positions))\n",
    "        for layer in self.layers:\n",
    "            out = layer(out,out,out,mask)\n",
    "        return out"
   ]
  },
  {
   "cell_type": "code",
   "execution_count": 186,
   "id": "73e8bb9a-d019-4f14-9f60-fa638e9715db",
   "metadata": {},
   "outputs": [],
   "source": [
    "class DecoderBlock(nn.Module):\n",
    "    def __init__(self,embed_size,n_heads,forward_expansion,dropout):\n",
    "        super(DecoderBlock,self).__init__()\n",
    "        self.attention = SelfAttention(embed_size,n_heads)\n",
    "        self.norm = nn.LayerNorm(embed_size)\n",
    "        self.embed_size = embed_size\n",
    "        self.transformer_block = TransformerBlock(embed_size,n_heads,dropout,forward_expansion)\n",
    "        self.dropout = nn.Dropout(dropout)\n",
    "\n",
    "    def forward(self,x,value,key,src_mask,tgt_mask):\n",
    "        attention = self.attention(x,x,x,tgt_mask)\n",
    "        query = self.dropout(self.norm(attention + x))\n",
    "        out = self.transformer_block(value,key,query,src_mask)\n",
    "        return out"
   ]
  },
  {
   "cell_type": "code",
   "execution_count": 217,
   "id": "b19c5134-3689-4cd4-9d9c-c96d7c383242",
   "metadata": {},
   "outputs": [],
   "source": [
    "class Decoder(nn.Module):\n",
    "    def __init__(self,tgt_vocab_size,embed_size,num_layers,n_heads,forward_expansion,dropout,device,max_length):\n",
    "        super(Decoder,self).__init__()\n",
    "        self.device = device\n",
    "        self.word_embedding = nn.Embedding(tgt_vocab_size,embed_size)\n",
    "        self.position_encoding = nn.Embedding(max_length,embed_size)\n",
    "        self.layers = nn.ModuleList([\n",
    "            DecoderBlock(embed_size,n_heads,forward_expansion,dropout) for _ in range(num_layers)\n",
    "        ])\n",
    "        self.fc_out = nn.Linear(embed_size,tgt_vocab_size,bias = False)\n",
    "        self.dropout = nn.Dropout(dropout)\n",
    "\n",
    "    def forward(self,x,enc_out,src_mask,tgt_mask):\n",
    "        N,seq_length = x.shape\n",
    "        positions = torch.arange(0,seq_length).expand(N,seq_length).to(self.device)\n",
    "        X = self.dropout(self.word_embedding(x) + self.position_encoding(positions))\n",
    "\n",
    "        for layer in self.layers:\n",
    "            X = layer(X,enc_out,enc_out,src_mask,tgt_mask)\n",
    "        out = self.fc_out(X)\n",
    "        return out\n",
    "        \n",
    "        "
   ]
  },
  {
   "cell_type": "code",
   "execution_count": 218,
   "id": "f64e78cb-52f0-4db3-827e-99dfc8a14ea4",
   "metadata": {},
   "outputs": [],
   "source": [
    "class Transformer(nn.Module):\n",
    "    def __init__(self,src_vocab_size,tgt_vocab_size,src_pad_idx,tgt_pad_idx,device,embed_size = 256,num_layers = 6,\n",
    "                forward_expansion=4,n_heads = 8, dropout = 0.1,\n",
    "                max_length = 100):\n",
    "        super(Transformer,self).__init__()\n",
    "        self.encoder = Encoder(\n",
    "            src_vocab_size,embed_size,num_layers,n_heads,device,forward_expansion,dropout,max_length\n",
    "        )\n",
    "        self.decoder = Decoder(\n",
    "            tgt_vocab_size,embed_size,num_layers,n_heads,forward_expansion,dropout,device,max_length\n",
    "        )\n",
    "        self.src_pad_idx = src_pad_idx\n",
    "        self.tgt_pad_idx = tgt_pad_idx\n",
    "        self.device = device\n",
    "\n",
    "    def make_src_mask(self,src):\n",
    "        src_mask = (src!=self.src_pad_idx).unsqueeze(1).unsqueeze(2)\n",
    "        return src_mask.to(self.device)\n",
    "\n",
    "    def make_target_mask(self,tgt):\n",
    "        N,trg_len = tgt.shape\n",
    "        trg_mask = torch.tril(torch.ones((trg_len,trg_len))).expand(N,1,trg_len,trg_len)\n",
    "        return trg_mask.to(self.device)\n",
    "\n",
    "    def forward(self,src,tgt):\n",
    "        src_mask = self.make_src_mask(src)\n",
    "        tgt_mask = self.make_target_mask(tgt)\n",
    "        enc_src = self.encoder(src,src_mask)\n",
    "        out = self.decoder(tgt,enc_src,src_mask,tgt_mask)\n",
    "        return out"
   ]
  },
  {
   "cell_type": "code",
   "execution_count": 219,
   "id": "72e279c9-71c3-4d94-b3b2-3cfa4067fd3a",
   "metadata": {},
   "outputs": [
    {
     "name": "stdout",
     "output_type": "stream",
     "text": [
      "cpu\n"
     ]
    }
   ],
   "source": [
    "device = torch.device(\"cuda\" if torch.cuda.is_available() else \"cpu\")\n",
    "print(device)"
   ]
  },
  {
   "cell_type": "code",
   "execution_count": 220,
   "id": "c220e4fb-9a89-4bc3-875e-23f7390921a0",
   "metadata": {},
   "outputs": [],
   "source": [
    "x = torch.tensor([[1,5,6,4,3,9,5,2,0],[1,8,7,3,4,5,6,7,2]]).to(device)"
   ]
  },
  {
   "cell_type": "code",
   "execution_count": 221,
   "id": "0eb5572d-c58f-412f-9070-03e297c403a9",
   "metadata": {},
   "outputs": [],
   "source": [
    "y = torch.tensor([[1,7,4,3,5,9,2,0],[1,5,6,2,4,7,6,2]]).to(device)"
   ]
  },
  {
   "cell_type": "code",
   "execution_count": 222,
   "id": "a03befec-6283-48c0-8072-c27ff91f71e6",
   "metadata": {},
   "outputs": [],
   "source": [
    "src_pad_idx = 0\n",
    "tgt_pad_idx = 0\n",
    "src_vocab_size = 10\n",
    "tgt_vocab_size = 10"
   ]
  },
  {
   "cell_type": "code",
   "execution_count": 223,
   "id": "eafe49bc-01da-4e1b-bcc6-3a420340b38b",
   "metadata": {},
   "outputs": [],
   "source": [
    "model = Transformer(src_vocab_size,tgt_vocab_size,src_pad_idx,tgt_pad_idx,device)"
   ]
  },
  {
   "cell_type": "code",
   "execution_count": 224,
   "id": "22b4212e-d68c-49fe-84e2-e4b8e5c7e060",
   "metadata": {},
   "outputs": [],
   "source": [
    "out = model(x,y[:,:-1])"
   ]
  },
  {
   "cell_type": "code",
   "execution_count": 226,
   "id": "bad396cf-182f-4b1d-a479-c46a15254fc1",
   "metadata": {},
   "outputs": [
    {
     "data": {
      "text/plain": [
       "torch.Size([2, 7, 10])"
      ]
     },
     "execution_count": 226,
     "metadata": {},
     "output_type": "execute_result"
    }
   ],
   "source": [
    "out.shape"
   ]
  },
  {
   "cell_type": "code",
   "execution_count": 228,
   "id": "b82001e4-9986-4714-a140-64d63366f6fc",
   "metadata": {},
   "outputs": [
    {
     "data": {
      "text/plain": [
       "torch.Size([2, 8])"
      ]
     },
     "execution_count": 228,
     "metadata": {},
     "output_type": "execute_result"
    }
   ],
   "source": [
    "y.shape"
   ]
  }
 ],
 "metadata": {
  "kernelspec": {
   "display_name": "Python 3 (ipykernel)",
   "language": "python",
   "name": "python3"
  },
  "language_info": {
   "codemirror_mode": {
    "name": "ipython",
    "version": 3
   },
   "file_extension": ".py",
   "mimetype": "text/x-python",
   "name": "python",
   "nbconvert_exporter": "python",
   "pygments_lexer": "ipython3",
   "version": "3.12.7"
  }
 },
 "nbformat": 4,
 "nbformat_minor": 5
}
